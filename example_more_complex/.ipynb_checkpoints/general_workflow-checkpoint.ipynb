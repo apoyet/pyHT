{
 "cells": [
  {
   "attachments": {
    "image.png": {
     "image/png": "[encoded data removed]"
    }
   },
   "cell_type": "markdown",
   "metadata": {},
   "source": [
    "# Let's go Pythonic...\n",
    "\n",
    "![image.png](attachment:image.png)\n",
    "\n",
    "The aim of this notebook is to report the present status of the development of a more pythonic working flow to submit jobs to HTCondor, through a practical example. \n",
    "\n",
    "This notebook represents the 'API' of our tool, even though all the process cannot be automatic and recquires actions from the user, especially in the preliminairy steps. The goal is to present a tool that wil be very general, allowing the user to prepare the jobs they want to submit, and to organize the related data in a practical way. \n",
    "\n",
    "In this simple example, the goal is to match a FODO cell to different tunes, and to get back the quadrupole stregths, the typical kind of operation that recquires the use of a batch system ;) "
   ]
  },
  {
   "cell_type": "code",
   "execution_count": 20,
   "metadata": {},
   "outputs": [],
   "source": [
    "from pyHTC.Study import *\n",
    "import pyHTC.toolkit as toolbox"
   ]
  },
  {
   "cell_type": "code",
   "execution_count": 21,
   "metadata": {},
   "outputs": [],
   "source": [
    "# Definition of the study \n",
    "\n",
    "myName = 'myStudy'\n",
    "myPath = '/afs/cern.ch/user/a/apoyet/public/BB_Meeting_Example'\n",
    "myExe = '/afs/cern.ch/user/a/apoyet/public/BB_Meeting_Example/myExecutable.sh'\n",
    "mySubFileName = 'mySubFile'\n",
    "\n",
    "myStudy = StudyObj(myName, myPath, myExe, mySubFileName , arguments='$(input_file)', output_dir='output/', error_dir='error/',\n",
    "                   log_dir = 'log/')"
   ]
  },
  {
   "cell_type": "code",
   "execution_count": 22,
   "metadata": {},
   "outputs": [],
   "source": [
    "# Let's define the scans to be performed\n",
    "# In our case, they are the horizontal and vertical tunes\n",
    "# We store those parameters in a dictionnary \n",
    "\n",
    "myParam = {'X':[.25, .27], 'Y':[.25, .27]}\n",
    "\n",
    "# NB: in fine, this would be a DF...\n",
    "# And let's make the combination...\n",
    "\n",
    "myStudy.define_study(myParam)"
   ]
  },
  {
   "cell_type": "code",
   "execution_count": 23,
   "metadata": {},
   "outputs": [
    {
     "name": "stdout",
     "output_type": "stream",
     "text": [
      "The parameters are : ['Y', 'X']\n",
      "Their values are : [[0.25, 0.27], [0.25, 0.27]]\n"
     ]
    }
   ],
   "source": [
    "# One can access the parameters and their values\n",
    "\n",
    "print('The parameters are : {}'.format(myStudy.parameters_keys))\n",
    "print('Their values are : {}'.format(myStudy.parameters_values))"
   ]
  },
  {
   "cell_type": "code",
   "execution_count": 24,
   "metadata": {},
   "outputs": [
    {
     "name": "stdout",
     "output_type": "stream",
     "text": [
      "['%MASKED_Q1' '%MASKED_Q2' '%MASKED_output_file']\n"
     ]
    }
   ],
   "source": [
    "# One has now to create the input files... \n",
    "\n",
    "myTemplate = 'myScript.py'\n",
    "myMaskedParam = toolbox.getMaskedParameterList(myTemplate, tag='%MASKED_')\n",
    "print(myMaskedParam)"
   ]
  },
  {
   "cell_type": "code",
   "execution_count": 25,
   "metadata": {},
   "outputs": [],
   "source": [
    "# Creation of the input files\n",
    "\n",
    "for x in myStudy.parameters['X']:\n",
    "    for y in myStudy.parameters['Y']:\n",
    "        myMachineParam = {}\n",
    "        myMachineParam.update({\n",
    "            '%MASKED_Q1' : x,\n",
    "            '%MASKED_Q2' : y, \n",
    "            '%MASKED_output_file' : '/afs/cern.ch/user/a/apoyet/public/BB_Meeting_Example/mad_output/my_k_table_{0}_{1}'.format(x,y)\n",
    "        })\n",
    "        myInputFile = 'input/{0}_{1}_{2}.in'.format(myStudy.name, x, y)\n",
    "        toolbox.unmask(myTemplate, myMaskedParam, myMachineParam, myInputFile)"
   ]
  },
  {
   "cell_type": "code",
   "execution_count": 26,
   "metadata": {},
   "outputs": [],
   "source": [
    "# Creating the submission file corresponding to the STUDY \n",
    "# NB : MULTIPLE JOBS SUBMISSION\n",
    "\n",
    "myStudy.submit2file(myStudy.submit2str())"
   ]
  },
  {
   "cell_type": "code",
   "execution_count": 27,
   "metadata": {},
   "outputs": [
    {
     "name": "stdout",
     "output_type": "stream",
     "text": [
      "executable = /afs/cern.ch/user/a/apoyet/public/BB_Meeting_Example/myExecutable.sh\n",
      "arguments = $(input_file)\n",
      "output = output/myStudy.$(ClusterId).$(ProcId).out\n",
      "error = error/myStudy.$(ClusterId).$(ProcId).err\n",
      "log = log/myStudy.$(ClusterId).log\n",
      "universe = vanilla\n",
      "queue input_file matching files /afs/cern.ch/user/a/apoyet/public/BB_Meeting_Example/input/myStudy_*.in\n"
     ]
    }
   ],
   "source": [
    "# One can display the submission file\n",
    "\n",
    "myStudy.display_subfile()"
   ]
  },
  {
   "cell_type": "code",
   "execution_count": 28,
   "metadata": {},
   "outputs": [
    {
     "name": "stdout",
     "output_type": "stream",
     "text": [
      "Submitting job(s)....\n",
      "4 job(s) submitted to cluster 3630035.\n",
      "\n"
     ]
    }
   ],
   "source": [
    "# And...... SUBMISSION\n",
    "\n",
    "myStudy.submit2HTCondor()"
   ]
  },
  {
   "cell_type": "code",
   "execution_count": 36,
   "metadata": {},
   "outputs": [
    {
     "name": "stdout",
     "output_type": "stream",
     "text": [
      "\n",
      "\n",
      "-- Schedd: bigbird16.cern.ch : <188.184.90.62:9618?... @ 07/13/19 13:15:52\n",
      "OWNER  BATCH_NAME        SUBMITTED   DONE   RUN    IDLE  TOTAL JOB_IDS\n",
      "apoyet CMD: myExecuta   7/13 13:06      _      _      4      4 3630035.0-3\n",
      "\n",
      "4 jobs; 0 completed, 0 removed, 4 idle, 0 running, 0 held, 0 suspended\n",
      "\n"
     ]
    }
   ],
   "source": [
    "# Monitoring the jobs... :) \n",
    "\n",
    "myStudy.condor_q()"
   ]
  },
  {
   "cell_type": "code",
   "execution_count": 11,
   "metadata": {},
   "outputs": [],
   "source": [
    "# The idea then is to generate a pandas DataFrame containing the different points (or JOBS) of the study\n",
    "# The DF will be used as a reference afterwards to retrieve which job was made which which parameters\n",
    "# It should therefore contains the paths of the corresponding files\n",
    "\n",
    "df = myStudy.get_studyDF()"
   ]
  },
  {
   "cell_type": "code",
   "execution_count": 12,
   "metadata": {},
   "outputs": [
    {
     "data": {
      "text/html": [
       "<div>\n",
       "<style scoped>\n",
       "    .dataframe tbody tr th:only-of-type {\n",
       "        vertical-align: middle;\n",
       "    }\n",
       "\n",
       "    .dataframe tbody tr th {\n",
       "        vertical-align: top;\n",
       "    }\n",
       "\n",
       "    .dataframe thead th {\n",
       "        text-align: right;\n",
       "    }\n",
       "</style>\n",
       "<table border=\"1\" class=\"dataframe\">\n",
       "  <thead>\n",
       "    <tr style=\"text-align: right;\">\n",
       "      <th></th>\n",
       "      <th>Y</th>\n",
       "      <th>X</th>\n",
       "      <th>Input</th>\n",
       "      <th>Output</th>\n",
       "      <th>Error</th>\n",
       "      <th>Log</th>\n",
       "      <th>ProcID</th>\n",
       "    </tr>\n",
       "  </thead>\n",
       "  <tbody>\n",
       "    <tr>\n",
       "      <th>myStudy_0.25_0.25</th>\n",
       "      <td>0.25</td>\n",
       "      <td>0.25</td>\n",
       "      <td>myStudy_0.25_0.25.in</td>\n",
       "      <td>output/myStudy.3630032.0.out</td>\n",
       "      <td>error/myStudy.3630032.0.err</td>\n",
       "      <td>log/myStudy.3630032.log</td>\n",
       "      <td>0</td>\n",
       "    </tr>\n",
       "    <tr>\n",
       "      <th>myStudy_0.25_0.27</th>\n",
       "      <td>0.25</td>\n",
       "      <td>0.27</td>\n",
       "      <td>myStudy_0.25_0.27.in</td>\n",
       "      <td>output/myStudy.3630032.1.out</td>\n",
       "      <td>error/myStudy.3630032.1.err</td>\n",
       "      <td>log/myStudy.3630032.log</td>\n",
       "      <td>1</td>\n",
       "    </tr>\n",
       "    <tr>\n",
       "      <th>myStudy_0.27_0.25</th>\n",
       "      <td>0.27</td>\n",
       "      <td>0.25</td>\n",
       "      <td>myStudy_0.27_0.25.in</td>\n",
       "      <td>output/myStudy.3630032.2.out</td>\n",
       "      <td>error/myStudy.3630032.2.err</td>\n",
       "      <td>log/myStudy.3630032.log</td>\n",
       "      <td>2</td>\n",
       "    </tr>\n",
       "    <tr>\n",
       "      <th>myStudy_0.27_0.27</th>\n",
       "      <td>0.27</td>\n",
       "      <td>0.27</td>\n",
       "      <td>myStudy_0.27_0.27.in</td>\n",
       "      <td>output/myStudy.3630032.3.out</td>\n",
       "      <td>error/myStudy.3630032.3.err</td>\n",
       "      <td>log/myStudy.3630032.log</td>\n",
       "      <td>3</td>\n",
       "    </tr>\n",
       "  </tbody>\n",
       "</table>\n",
       "</div>"
      ],
      "text/plain": [
       "                      Y     X                 Input  \\\n",
       "myStudy_0.25_0.25  0.25  0.25  myStudy_0.25_0.25.in   \n",
       "myStudy_0.25_0.27  0.25  0.27  myStudy_0.25_0.27.in   \n",
       "myStudy_0.27_0.25  0.27  0.25  myStudy_0.27_0.25.in   \n",
       "myStudy_0.27_0.27  0.27  0.27  myStudy_0.27_0.27.in   \n",
       "\n",
       "                                         Output                        Error  \\\n",
       "myStudy_0.25_0.25  output/myStudy.3630032.0.out  error/myStudy.3630032.0.err   \n",
       "myStudy_0.25_0.27  output/myStudy.3630032.1.out  error/myStudy.3630032.1.err   \n",
       "myStudy_0.27_0.25  output/myStudy.3630032.2.out  error/myStudy.3630032.2.err   \n",
       "myStudy_0.27_0.27  output/myStudy.3630032.3.out  error/myStudy.3630032.3.err   \n",
       "\n",
       "                                       Log ProcID  \n",
       "myStudy_0.25_0.25  log/myStudy.3630032.log      0  \n",
       "myStudy_0.25_0.27  log/myStudy.3630032.log      1  \n",
       "myStudy_0.27_0.25  log/myStudy.3630032.log      2  \n",
       "myStudy_0.27_0.27  log/myStudy.3630032.log      3  "
      ]
     },
     "execution_count": 12,
     "metadata": {},
     "output_type": "execute_result"
    }
   ],
   "source": [
    "# Let's print the DF\n",
    "\n",
    "df"
   ]
  },
  {
   "cell_type": "code",
   "execution_count": null,
   "metadata": {},
   "outputs": [],
   "source": []
  }
 ],
 "metadata": {
  "kernelspec": {
   "display_name": "Python 2",
   "language": "python",
   "name": "python2"
  },
  "language_info": {
   "codemirror_mode": {
    "name": "ipython",
    "version": 2
   },
   "file_extension": ".py",
   "mimetype": "text/x-python",
   "name": "python",
   "nbconvert_exporter": "python",
   "pygments_lexer": "ipython2",
   "version": "2.7.14"
  }
 },
 "nbformat": 4,
 "nbformat_minor": 2
}
