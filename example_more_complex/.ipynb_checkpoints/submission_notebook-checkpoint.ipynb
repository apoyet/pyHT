{
 "cells": [
  {
   "cell_type": "code",
   "execution_count": 1,
   "metadata": {},
   "outputs": [],
   "source": [
    "from pyHTC.Study import *"
   ]
  },
  {
   "cell_type": "code",
   "execution_count": 2,
   "metadata": {},
   "outputs": [],
   "source": [
    "# Definition of the study \n",
    "\n",
    "myName = 'myBB_meeting_study'\n",
    "myExe = '/afs/cern.ch/user/m/mad/bin/madx'\n",
    "mySubFileName = 'mySubFile'\n",
    "\n",
    "myStudy = StudyObj(myName, myExe, mySubFileName, input_dir='input/', output_dir='output/', error_dir='error/',\n",
    "                   log_dir = 'log/')"
   ]
  },
  {
   "cell_type": "code",
   "execution_count": 11,
   "metadata": {},
   "outputs": [],
   "source": [
    "# What are the parameter of your study? \n",
    "# Let's define them in a dictionnary\n",
    "\n",
    "myParam = {'temp' : [10], 'press' : [1,2], 'I' : [5], 'wind' : [9]}"
   ]
  },
  {
   "cell_type": "code",
   "execution_count": 12,
   "metadata": {},
   "outputs": [],
   "source": [
    "# One can now define the jobs from this scan\n",
    "\n",
    "myStudy.define_study(myParam)"
   ]
  },
  {
   "cell_type": "code",
   "execution_count": 13,
   "metadata": {},
   "outputs": [
    {
     "name": "stdout",
     "output_type": "stream",
     "text": [
      "The parameters are : ['press', 'I', 'wind', 'temp']\n",
      "Their values are : [[1, 2], [5], [9], [10]]\n"
     ]
    }
   ],
   "source": [
    "# One can access the parameters and their values\n",
    "\n",
    "print('The parameters are : {}'.format(myStudy.parameters_keys))\n",
    "print('Their values are : {}'.format(myStudy.parameters_values))"
   ]
  },
  {
   "cell_type": "code",
   "execution_count": 15,
   "metadata": {},
   "outputs": [
    {
     "data": {
      "text/plain": [
       "['myBB_meeting_study_1_5_9_10', 'myBB_meeting_study_2_5_9_10']"
      ]
     },
     "execution_count": 15,
     "metadata": {},
     "output_type": "execute_result"
    }
   ],
   "source": [
    "# And the jobs names\n",
    "\n",
    "myStudy.jobs_names"
   ]
  },
  {
   "cell_type": "code",
   "execution_count": 16,
   "metadata": {},
   "outputs": [],
   "source": [
    "# WARNING: At this point of the development, the package does not include a function to 'unmask' input files.\n",
    "# They are therefore assumed to be present under the 'input' directory"
   ]
  },
  {
   "cell_type": "code",
   "execution_count": 17,
   "metadata": {},
   "outputs": [],
   "source": [
    "# Creating the submission file corresponding to the STUDY \n",
    "# NB : MULTIPLE JOBS SUBMISSION\n",
    "\n",
    "myStudy.submit2file(myStudy.submit2str())"
   ]
  },
  {
   "cell_type": "code",
   "execution_count": 18,
   "metadata": {},
   "outputs": [
    {
     "name": "stdout",
     "output_type": "stream",
     "text": [
      "executable = /afs/cern.ch/user/m/mad/bin/madx\n",
      "input = $(input_file)\n",
      "arguments = $(ClusterId) $(ProcId)\n",
      "output = output/myBB_meeting_study.$(ClusterId).$(ProcId).out\n",
      "error = error/myBB_meeting_study.$(ClusterId).$(ProcId).err\n",
      "log = log/myBB_meeting_study.$(ClusterId).log\n",
      "universe = vanilla\n",
      "queue input_file matching files input/myBB_meeting_study_*.in\n"
     ]
    }
   ],
   "source": [
    "# One can display the submission file\n",
    "\n",
    "myStudy.display_subfile()"
   ]
  },
  {
   "cell_type": "code",
   "execution_count": 19,
   "metadata": {},
   "outputs": [
    {
     "name": "stdout",
     "output_type": "stream",
     "text": [
      "Submitting job(s)..\n",
      "2 job(s) submitted to cluster 3625276.\n",
      "\n"
     ]
    }
   ],
   "source": [
    "# And...... SUBMISSION\n",
    "\n",
    "myStudy.submit2HTCondor()"
   ]
  },
  {
   "cell_type": "code",
   "execution_count": 20,
   "metadata": {},
   "outputs": [
    {
     "name": "stdout",
     "output_type": "stream",
     "text": [
      "\n",
      "\n",
      "-- Schedd: bigbird16.cern.ch : <188.184.90.62:9618?... @ 07/11/19 10:09:25\n",
      "OWNER  BATCH_NAME    SUBMITTED   DONE   RUN    IDLE  TOTAL JOB_IDS\n",
      "apoyet CMD: madx    7/11 10:09      _      _      2      2 3625276.0-1\n",
      "\n",
      "2 jobs; 0 completed, 0 removed, 2 idle, 0 running, 0 held, 0 suspended\n",
      "\n"
     ]
    }
   ],
   "source": [
    "# Monitoring the jobs... :) \n",
    "\n",
    "myStudy.condor_q()"
   ]
  },
  {
   "cell_type": "code",
   "execution_count": 21,
   "metadata": {},
   "outputs": [],
   "source": [
    "# The idea then is to generate a pandas DataFrame containing the different points (or JOBS) of the study\n",
    "# The DF will be used as a reference afterwards to retrieve which job was made which which parameters\n",
    "# It should therefore contains the paths of the corresponding files\n",
    "\n",
    "df = myStudy.get_studyDF()"
   ]
  },
  {
   "cell_type": "code",
   "execution_count": 22,
   "metadata": {},
   "outputs": [
    {
     "data": {
      "text/html": [
       "<div>\n",
       "<style scoped>\n",
       "    .dataframe tbody tr th:only-of-type {\n",
       "        vertical-align: middle;\n",
       "    }\n",
       "\n",
       "    .dataframe tbody tr th {\n",
       "        vertical-align: top;\n",
       "    }\n",
       "\n",
       "    .dataframe thead th {\n",
       "        text-align: right;\n",
       "    }\n",
       "</style>\n",
       "<table border=\"1\" class=\"dataframe\">\n",
       "  <thead>\n",
       "    <tr style=\"text-align: right;\">\n",
       "      <th></th>\n",
       "      <th>press</th>\n",
       "      <th>I</th>\n",
       "      <th>wind</th>\n",
       "      <th>temp</th>\n",
       "      <th>Input</th>\n",
       "      <th>Output</th>\n",
       "      <th>Error</th>\n",
       "      <th>Log</th>\n",
       "      <th>ProcID</th>\n",
       "    </tr>\n",
       "  </thead>\n",
       "  <tbody>\n",
       "    <tr>\n",
       "      <th>myBB_meeting_study_1_5_9_10</th>\n",
       "      <td>1</td>\n",
       "      <td>5</td>\n",
       "      <td>9</td>\n",
       "      <td>10</td>\n",
       "      <td>input/myBB_meeting_study_1_5_9_10.in</td>\n",
       "      <td>output/myBB_meeting_study.3625276.0.out</td>\n",
       "      <td>error/myBB_meeting_study.3625276.0.err</td>\n",
       "      <td>log/myBB_meeting_study.3625276.log</td>\n",
       "      <td>0</td>\n",
       "    </tr>\n",
       "    <tr>\n",
       "      <th>myBB_meeting_study_2_5_9_10</th>\n",
       "      <td>2</td>\n",
       "      <td>5</td>\n",
       "      <td>9</td>\n",
       "      <td>10</td>\n",
       "      <td>input/myBB_meeting_study_2_5_9_10.in</td>\n",
       "      <td>output/myBB_meeting_study.3625276.1.out</td>\n",
       "      <td>error/myBB_meeting_study.3625276.1.err</td>\n",
       "      <td>log/myBB_meeting_study.3625276.log</td>\n",
       "      <td>1</td>\n",
       "    </tr>\n",
       "  </tbody>\n",
       "</table>\n",
       "</div>"
      ],
      "text/plain": [
       "                            press  I wind temp  \\\n",
       "myBB_meeting_study_1_5_9_10     1  5    9   10   \n",
       "myBB_meeting_study_2_5_9_10     2  5    9   10   \n",
       "\n",
       "                                                            Input  \\\n",
       "myBB_meeting_study_1_5_9_10  input/myBB_meeting_study_1_5_9_10.in   \n",
       "myBB_meeting_study_2_5_9_10  input/myBB_meeting_study_2_5_9_10.in   \n",
       "\n",
       "                                                              Output  \\\n",
       "myBB_meeting_study_1_5_9_10  output/myBB_meeting_study.3625276.0.out   \n",
       "myBB_meeting_study_2_5_9_10  output/myBB_meeting_study.3625276.1.out   \n",
       "\n",
       "                                                              Error  \\\n",
       "myBB_meeting_study_1_5_9_10  error/myBB_meeting_study.3625276.0.err   \n",
       "myBB_meeting_study_2_5_9_10  error/myBB_meeting_study.3625276.1.err   \n",
       "\n",
       "                                                            Log ProcID  \n",
       "myBB_meeting_study_1_5_9_10  log/myBB_meeting_study.3625276.log      0  \n",
       "myBB_meeting_study_2_5_9_10  log/myBB_meeting_study.3625276.log      1  "
      ]
     },
     "execution_count": 22,
     "metadata": {},
     "output_type": "execute_result"
    }
   ],
   "source": [
    "# Let's print the DF\n",
    "\n",
    "df"
   ]
  },
  {
   "cell_type": "code",
   "execution_count": null,
   "metadata": {},
   "outputs": [],
   "source": []
  }
 ],
 "metadata": {
  "kernelspec": {
   "display_name": "Python 2",
   "language": "python",
   "name": "python2"
  },
  "language_info": {
   "codemirror_mode": {
    "name": "ipython",
    "version": 2
   },
   "file_extension": ".py",
   "mimetype": "text/x-python",
   "name": "python",
   "nbconvert_exporter": "python",
   "pygments_lexer": "ipython2",
   "version": "2.7.14"
  }
 },
 "nbformat": 4,
 "nbformat_minor": 2
}
