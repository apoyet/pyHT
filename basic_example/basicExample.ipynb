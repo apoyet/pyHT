{
 "cells": [
  {
   "cell_type": "code",
   "execution_count": 1,
   "metadata": {},
   "outputs": [],
   "source": [
    "# Importing modules from the pyHTC package\n",
    "import sys\n",
    "sys.path.insert(0, \"/Users/sterbini/CERNBox/pyHTC\")\n",
    "from pyHTC.Study import *\n",
    "import pyHTC.toolkit as toolkit"
   ]
  },
  {
   "cell_type": "code",
   "execution_count": 2,
   "metadata": {},
   "outputs": [
    {
     "data": {
      "text/html": [
       "<div>\n",
       "<style scoped>\n",
       "    .dataframe tbody tr th:only-of-type {\n",
       "        vertical-align: middle;\n",
       "    }\n",
       "\n",
       "    .dataframe tbody tr th {\n",
       "        vertical-align: top;\n",
       "    }\n",
       "\n",
       "    .dataframe thead th {\n",
       "        text-align: right;\n",
       "    }\n",
       "</style>\n",
       "<table border=\"1\" class=\"dataframe\">\n",
       "  <thead>\n",
       "    <tr style=\"text-align: right;\">\n",
       "      <th></th>\n",
       "      <th>number</th>\n",
       "      <th>outFile</th>\n",
       "    </tr>\n",
       "  </thead>\n",
       "  <tbody>\n",
       "    <tr>\n",
       "      <th>0</th>\n",
       "      <td>0.149405</td>\n",
       "      <td>/Users/sterbini/CERNBox/pyHTC/basic_example/ou...</td>\n",
       "    </tr>\n",
       "    <tr>\n",
       "      <th>1</th>\n",
       "      <td>2.309767</td>\n",
       "      <td>/Users/sterbini/CERNBox/pyHTC/basic_example/ou...</td>\n",
       "    </tr>\n",
       "    <tr>\n",
       "      <th>2</th>\n",
       "      <td>0.596805</td>\n",
       "      <td>/Users/sterbini/CERNBox/pyHTC/basic_example/ou...</td>\n",
       "    </tr>\n",
       "    <tr>\n",
       "      <th>3</th>\n",
       "      <td>-0.558421</td>\n",
       "      <td>/Users/sterbini/CERNBox/pyHTC/basic_example/ou...</td>\n",
       "    </tr>\n",
       "    <tr>\n",
       "      <th>4</th>\n",
       "      <td>-0.331027</td>\n",
       "      <td>/Users/sterbini/CERNBox/pyHTC/basic_example/ou...</td>\n",
       "    </tr>\n",
       "  </tbody>\n",
       "</table>\n",
       "</div>"
      ],
      "text/plain": [
       "     number                                            outFile\n",
       "0  0.149405  /Users/sterbini/CERNBox/pyHTC/basic_example/ou...\n",
       "1  2.309767  /Users/sterbini/CERNBox/pyHTC/basic_example/ou...\n",
       "2  0.596805  /Users/sterbini/CERNBox/pyHTC/basic_example/ou...\n",
       "3 -0.558421  /Users/sterbini/CERNBox/pyHTC/basic_example/ou...\n",
       "4 -0.331027  /Users/sterbini/CERNBox/pyHTC/basic_example/ou..."
      ]
     },
     "execution_count": 2,
     "metadata": {},
     "output_type": "execute_result"
    }
   ],
   "source": [
    "mypath='/Users/sterbini/CERNBox/pyHTC/basic_example'\n",
    "python_script=mypath+'/myScript.py'\n",
    "python_dataframe=mypath+'/myDF.pkl'\n",
    "# it should correspond with the results of\n",
    "# !which python\n",
    "python_distribution='/cvmfs/sft.cern.ch/lcg/views/LCG_96python3/x86_64-centos7-gcc8-opt/setup.sh'\n",
    "\n",
    "# A simple DataFrame\n",
    "col = ['number']\n",
    "data = np.random.randn(5)\n",
    "df = pd.DataFrame(data, columns=col)\n",
    "df['outFile']=[mypath+'/output/output_'+str(i)+'.pkl' for i in df.index]\n",
    "df.to_pickle(python_dataframe)\n",
    "df"
   ]
  },
  {
   "cell_type": "code",
   "execution_count": 3,
   "metadata": {},
   "outputs": [
    {
     "name": "stdout",
     "output_type": "stream",
     "text": [
      "{'arguments': '$(ProcId)',\n",
      " 'error_dir': 'error/',\n",
      " 'executable': 'myScript.sh',\n",
      " 'input_dir': '',\n",
      " 'job_flavour': 'espresso',\n",
      " 'log_dir': 'log/',\n",
      " 'name': 'test',\n",
      " 'output_dir': 'output/',\n",
      " 'path': '/Users/sterbini/CERNBox/pyHTC/basic_example',\n",
      " 'python_dataframe': '/Users/sterbini/CERNBox/pyHTC/basic_example/myDF.pkl',\n",
      " 'python_distribution': '/cvmfs/sft.cern.ch/lcg/views/LCG_96python3/x86_64-centos7-gcc8-opt/setup.sh',\n",
      " 'python_script': '/Users/sterbini/CERNBox/pyHTC/basic_example/myScript.py',\n",
      " 'queue': 5,\n",
      " 'submit_file': 'mySubmit.sub',\n",
      " 'universe': 'vanilla'}\n"
     ]
    }
   ],
   "source": [
    "myStudy = StudyObj(name='test',\\\n",
    "                   path=mypath,\\\n",
    "                   python_script=python_script,\\\n",
    "                   python_distribution=python_distribution,\\\n",
    "                   python_dataframe=python_dataframe,\n",
    "                   arguments='$(ProcId)', queue=len(pd.read_pickle(python_dataframe)))\n",
    "myStudy.describe()"
   ]
  },
  {
   "cell_type": "code",
   "execution_count": 4,
   "metadata": {},
   "outputs": [],
   "source": [
    "# Preparation of the working directory\n",
    "\n",
    "toolkit.prepare_work_dir()\n",
    "myStudy.submit2file(myStudy.submit2str())\n",
    "myStudy.script2file(myStudy.script2str())"
   ]
  },
  {
   "cell_type": "code",
   "execution_count": 5,
   "metadata": {},
   "outputs": [],
   "source": [
    "# Before submitting you should do a minimal check with\n",
    "# chmod +x myScript.sh\n",
    "# myScript.sh 0\n",
    "if 0:\n",
    "    myStudy.submit2HTCondor()"
   ]
  },
  {
   "cell_type": "code",
   "execution_count": 19,
   "metadata": {},
   "outputs": [
    {
     "name": "stdout",
     "output_type": "stream",
     "text": [
      "==>The /Users/sterbini/CERNBox/pyHTC/basic_example/output/output_0.pkl was not found\n"
     ]
    },
    {
     "data": {
      "text/html": [
       "<div>\n",
       "<style scoped>\n",
       "    .dataframe tbody tr th:only-of-type {\n",
       "        vertical-align: middle;\n",
       "    }\n",
       "\n",
       "    .dataframe tbody tr th {\n",
       "        vertical-align: top;\n",
       "    }\n",
       "\n",
       "    .dataframe thead th {\n",
       "        text-align: right;\n",
       "    }\n",
       "</style>\n",
       "<table border=\"1\" class=\"dataframe\">\n",
       "  <thead>\n",
       "    <tr style=\"text-align: right;\">\n",
       "      <th></th>\n",
       "      <th>number</th>\n",
       "      <th>Description</th>\n",
       "      <th>outFile</th>\n",
       "      <th>result</th>\n",
       "    </tr>\n",
       "  </thead>\n",
       "  <tbody>\n",
       "    <tr>\n",
       "      <th>1</th>\n",
       "      <td>-1.169869</td>\n",
       "      <td>This is my job description</td>\n",
       "      <td>/afs/cern.ch/user/s/sterbini/pyHTC/output/outp...</td>\n",
       "      <td>-2.339739</td>\n",
       "    </tr>\n",
       "    <tr>\n",
       "      <th>2</th>\n",
       "      <td>-1.201181</td>\n",
       "      <td>This is my job description</td>\n",
       "      <td>/afs/cern.ch/user/s/sterbini/pyHTC/output/outp...</td>\n",
       "      <td>-2.402361</td>\n",
       "    </tr>\n",
       "    <tr>\n",
       "      <th>3</th>\n",
       "      <td>0.364634</td>\n",
       "      <td>This is my job description</td>\n",
       "      <td>/afs/cern.ch/user/s/sterbini/pyHTC/output/outp...</td>\n",
       "      <td>0.729268</td>\n",
       "    </tr>\n",
       "    <tr>\n",
       "      <th>4</th>\n",
       "      <td>1.360036</td>\n",
       "      <td>This is my job description</td>\n",
       "      <td>/afs/cern.ch/user/s/sterbini/pyHTC/output/outp...</td>\n",
       "      <td>2.720072</td>\n",
       "    </tr>\n",
       "  </tbody>\n",
       "</table>\n",
       "</div>"
      ],
      "text/plain": [
       "     number                 Description  \\\n",
       "1 -1.169869  This is my job description   \n",
       "2 -1.201181  This is my job description   \n",
       "3  0.364634  This is my job description   \n",
       "4  1.360036  This is my job description   \n",
       "\n",
       "                                             outFile    result  \n",
       "1  /afs/cern.ch/user/s/sterbini/pyHTC/output/outp... -2.339739  \n",
       "2  /afs/cern.ch/user/s/sterbini/pyHTC/output/outp... -2.402361  \n",
       "3  /afs/cern.ch/user/s/sterbini/pyHTC/output/outp...  0.729268  \n",
       "4  /afs/cern.ch/user/s/sterbini/pyHTC/output/outp...  2.720072  "
      ]
     },
     "execution_count": 19,
     "metadata": {},
     "output_type": "execute_result"
    }
   ],
   "source": [
    "# Postprocessing\n",
    "myDF=pd.read_pickle(python_dataframe)\n",
    "\n",
    "myList=[]\n",
    "for i,row in myDF.iterrows():\n",
    "    try: \n",
    "        myList.append(pd.read_pickle(row['outFile']))\n",
    "    except:\n",
    "        print(f'==>The {row[\"outFile\"]} was not found')\n",
    "pd.DataFrame(myList)    \n",
    "              \n",
    "#pd.DataFrame([pd.read_pickle(row['outFile']) for i,row in myDF.iterrows()])"
   ]
  }
 ],
 "metadata": {
  "kernelspec": {
   "display_name": "Python 3",
   "language": "python",
   "name": "python3"
  },
  "language_info": {
   "codemirror_mode": {
    "name": "ipython",
    "version": 3
   },
   "file_extension": ".py",
   "mimetype": "text/x-python",
   "name": "python",
   "nbconvert_exporter": "python",
   "pygments_lexer": "ipython3",
   "version": "3.7.3"
  }
 },
 "nbformat": 4,
 "nbformat_minor": 2
}
