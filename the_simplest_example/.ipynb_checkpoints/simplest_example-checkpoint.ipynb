{
 "cells": [
  {
   "cell_type": "code",
   "execution_count": 1,
   "metadata": {},
   "outputs": [],
   "source": [
    "# Importing modules from the pyHTC package\n",
    "\n",
    "from pyHTC.Study import *\n",
    "import pyHTC.toolkit as toolkit"
   ]
  },
  {
   "cell_type": "markdown",
   "metadata": {},
   "source": [
    "# Working directory preparation\n",
    "---"
   ]
  },
  {
   "cell_type": "code",
   "execution_count": 2,
   "metadata": {},
   "outputs": [],
   "source": [
    "# Preparation of the working directory\n",
    "\n",
    "toolkit.prepare_work_dir()"
   ]
  },
  {
   "cell_type": "markdown",
   "metadata": {},
   "source": [
    "# Study Creation\n",
    "---"
   ]
  },
  {
   "cell_type": "code",
   "execution_count": 3,
   "metadata": {},
   "outputs": [],
   "source": [
    "# Study creation \n",
    "# This is basically an instantiation of the class 'Study'\n",
    "\n",
    "myStudy = StudyObj(name='times2')  # All attributes are filled by default, i'm just giving it a name"
   ]
  },
  {
   "cell_type": "code",
   "execution_count": 4,
   "metadata": {},
   "outputs": [
    {
     "name": "stdout",
     "output_type": "stream",
     "text": [
      "{'arguments': '$(input_file)',\n",
      " 'error_dir': 'error/',\n",
      " 'executable': 'exe.sh',\n",
      " 'input_dir': '',\n",
      " 'job_flavour': 'espresso',\n",
      " 'log_dir': 'log/',\n",
      " 'name': 'times2',\n",
      " 'output_dir': 'output/',\n",
      " 'path': '/afs/cern.ch/user/a/apoyet/public/pyHTC/the_simplest_example',\n",
      " 'queue': '',\n",
      " 'submit_file': 'muSubmit.sub',\n",
      " 'universe': 'vanilla'}\n"
     ]
    }
   ],
   "source": [
    "# To see ALL the attributes, use the 'describe' method\n",
    "\n",
    "myStudy.describe()  # note the fancy alphabetical order ;) "
   ]
  },
  {
   "cell_type": "code",
   "execution_count": 5,
   "metadata": {},
   "outputs": [
    {
     "data": {
      "text/html": [
       "<div>\n",
       "<style scoped>\n",
       "    .dataframe tbody tr th:only-of-type {\n",
       "        vertical-align: middle;\n",
       "    }\n",
       "\n",
       "    .dataframe tbody tr th {\n",
       "        vertical-align: top;\n",
       "    }\n",
       "\n",
       "    .dataframe thead th {\n",
       "        text-align: right;\n",
       "    }\n",
       "</style>\n",
       "<table border=\"1\" class=\"dataframe\">\n",
       "  <thead>\n",
       "    <tr style=\"text-align: right;\">\n",
       "      <th></th>\n",
       "      <th>0</th>\n",
       "    </tr>\n",
       "  </thead>\n",
       "  <tbody>\n",
       "    <tr>\n",
       "      <th>name</th>\n",
       "      <td>times2</td>\n",
       "    </tr>\n",
       "    <tr>\n",
       "      <th>path</th>\n",
       "      <td>/afs/cern.ch/user/a/apoyet/public/pyHTC/the_si...</td>\n",
       "    </tr>\n",
       "    <tr>\n",
       "      <th>executable</th>\n",
       "      <td>exe.sh</td>\n",
       "    </tr>\n",
       "    <tr>\n",
       "      <th>submit_file</th>\n",
       "      <td>muSubmit.sub</td>\n",
       "    </tr>\n",
       "    <tr>\n",
       "      <th>input_dir</th>\n",
       "      <td></td>\n",
       "    </tr>\n",
       "    <tr>\n",
       "      <th>arguments</th>\n",
       "      <td>$(input_file)</td>\n",
       "    </tr>\n",
       "    <tr>\n",
       "      <th>output_dir</th>\n",
       "      <td>output/</td>\n",
       "    </tr>\n",
       "    <tr>\n",
       "      <th>error_dir</th>\n",
       "      <td>error/</td>\n",
       "    </tr>\n",
       "    <tr>\n",
       "      <th>log_dir</th>\n",
       "      <td>log/</td>\n",
       "    </tr>\n",
       "    <tr>\n",
       "      <th>job_flavour</th>\n",
       "      <td>espresso</td>\n",
       "    </tr>\n",
       "    <tr>\n",
       "      <th>universe</th>\n",
       "      <td>vanilla</td>\n",
       "    </tr>\n",
       "    <tr>\n",
       "      <th>queue</th>\n",
       "      <td></td>\n",
       "    </tr>\n",
       "  </tbody>\n",
       "</table>\n",
       "</div>"
      ],
      "text/plain": [
       "                                                             0\n",
       "name                                                    times2\n",
       "path         /afs/cern.ch/user/a/apoyet/public/pyHTC/the_si...\n",
       "executable                                              exe.sh\n",
       "submit_file                                       muSubmit.sub\n",
       "input_dir                                                     \n",
       "arguments                                        $(input_file)\n",
       "output_dir                                             output/\n",
       "error_dir                                               error/\n",
       "log_dir                                                   log/\n",
       "job_flavour                                           espresso\n",
       "universe                                               vanilla\n",
       "queue                                                         "
      ]
     },
     "execution_count": 5,
     "metadata": {},
     "output_type": "execute_result"
    }
   ],
   "source": [
    "# Or if you like, you can get those attributes in a df\n",
    "\n",
    "my_attributes_df = myStudy.describe(in_df=True)\n",
    "my_attributes_df"
   ]
  },
  {
   "cell_type": "markdown",
   "metadata": {},
   "source": [
    "# Input Creation and Study Definition\n",
    "---"
   ]
  },
  {
   "cell_type": "code",
   "execution_count": 6,
   "metadata": {},
   "outputs": [
    {
     "data": {
      "text/html": [
       "<div>\n",
       "<style scoped>\n",
       "    .dataframe tbody tr th:only-of-type {\n",
       "        vertical-align: middle;\n",
       "    }\n",
       "\n",
       "    .dataframe tbody tr th {\n",
       "        vertical-align: top;\n",
       "    }\n",
       "\n",
       "    .dataframe thead th {\n",
       "        text-align: right;\n",
       "    }\n",
       "</style>\n",
       "<table border=\"1\" class=\"dataframe\">\n",
       "  <thead>\n",
       "    <tr style=\"text-align: right;\">\n",
       "      <th></th>\n",
       "      <th>number</th>\n",
       "    </tr>\n",
       "  </thead>\n",
       "  <tbody>\n",
       "    <tr>\n",
       "      <th>times2_-1.1534706811380708</th>\n",
       "      <td>-1.153471</td>\n",
       "    </tr>\n",
       "    <tr>\n",
       "      <th>times2_-1.260748318879834</th>\n",
       "      <td>-1.260748</td>\n",
       "    </tr>\n",
       "    <tr>\n",
       "      <th>times2_-2.0828844876255115</th>\n",
       "      <td>-2.082884</td>\n",
       "    </tr>\n",
       "    <tr>\n",
       "      <th>times2_1.4339443056519938</th>\n",
       "      <td>1.433944</td>\n",
       "    </tr>\n",
       "    <tr>\n",
       "      <th>times2_-0.19536975431814083</th>\n",
       "      <td>-0.195370</td>\n",
       "    </tr>\n",
       "  </tbody>\n",
       "</table>\n",
       "</div>"
      ],
      "text/plain": [
       "                               number\n",
       "times2_-1.1534706811380708  -1.153471\n",
       "times2_-1.260748318879834   -1.260748\n",
       "times2_-2.0828844876255115  -2.082884\n",
       "times2_1.4339443056519938    1.433944\n",
       "times2_-0.19536975431814083 -0.195370"
      ]
     },
     "execution_count": 6,
     "metadata": {},
     "output_type": "execute_result"
    }
   ],
   "source": [
    "# A simple DataFrame\n",
    "\n",
    "col = ['number']\n",
    "data = np.random.randn(10)\n",
    "df = pd.DataFrame(data, columns=col)\n",
    "index = [myStudy.name+'_'+str(i) for i in df['number'].values]\n",
    "df.index = index\n",
    "df.head()"
   ]
  },
  {
   "cell_type": "code",
   "execution_count": 7,
   "metadata": {},
   "outputs": [
    {
     "data": {
      "text/html": [
       "<div>\n",
       "<style scoped>\n",
       "    .dataframe tbody tr th:only-of-type {\n",
       "        vertical-align: middle;\n",
       "    }\n",
       "\n",
       "    .dataframe tbody tr th {\n",
       "        vertical-align: top;\n",
       "    }\n",
       "\n",
       "    .dataframe thead th {\n",
       "        text-align: right;\n",
       "    }\n",
       "</style>\n",
       "<table border=\"1\" class=\"dataframe\">\n",
       "  <thead>\n",
       "    <tr style=\"text-align: right;\">\n",
       "      <th></th>\n",
       "      <th>number</th>\n",
       "    </tr>\n",
       "  </thead>\n",
       "  <tbody>\n",
       "    <tr>\n",
       "      <th>times2_-1.1534706811380708</th>\n",
       "      <td>-1.153471</td>\n",
       "    </tr>\n",
       "    <tr>\n",
       "      <th>times2_-1.260748318879834</th>\n",
       "      <td>-1.260748</td>\n",
       "    </tr>\n",
       "    <tr>\n",
       "      <th>times2_-2.0828844876255115</th>\n",
       "      <td>-2.082884</td>\n",
       "    </tr>\n",
       "    <tr>\n",
       "      <th>times2_1.4339443056519938</th>\n",
       "      <td>1.433944</td>\n",
       "    </tr>\n",
       "    <tr>\n",
       "      <th>times2_-0.19536975431814083</th>\n",
       "      <td>-0.195370</td>\n",
       "    </tr>\n",
       "    <tr>\n",
       "      <th>times2_0.8538564724080824</th>\n",
       "      <td>0.853856</td>\n",
       "    </tr>\n",
       "    <tr>\n",
       "      <th>times2_-1.2972846991297584</th>\n",
       "      <td>-1.297285</td>\n",
       "    </tr>\n",
       "    <tr>\n",
       "      <th>times2_-0.3856101256838024</th>\n",
       "      <td>-0.385610</td>\n",
       "    </tr>\n",
       "    <tr>\n",
       "      <th>times2_-0.865281013859263</th>\n",
       "      <td>-0.865281</td>\n",
       "    </tr>\n",
       "    <tr>\n",
       "      <th>times2_0.1587961641614595</th>\n",
       "      <td>0.158796</td>\n",
       "    </tr>\n",
       "  </tbody>\n",
       "</table>\n",
       "</div>"
      ],
      "text/plain": [
       "                               number\n",
       "times2_-1.1534706811380708  -1.153471\n",
       "times2_-1.260748318879834   -1.260748\n",
       "times2_-2.0828844876255115  -2.082884\n",
       "times2_1.4339443056519938    1.433944\n",
       "times2_-0.19536975431814083 -0.195370\n",
       "times2_0.8538564724080824    0.853856\n",
       "times2_-1.2972846991297584  -1.297285\n",
       "times2_-0.3856101256838024  -0.385610\n",
       "times2_-0.865281013859263   -0.865281\n",
       "times2_0.1587961641614595    0.158796"
      ]
     },
     "execution_count": 7,
     "metadata": {},
     "output_type": "execute_result"
    }
   ],
   "source": [
    "# Let's define the study as a series of jobs\n",
    "\n",
    "myStudy.define_study(df)"
   ]
  },
  {
   "cell_type": "code",
   "execution_count": 8,
   "metadata": {},
   "outputs": [
    {
     "data": {
      "text/html": [
       "<div>\n",
       "<style scoped>\n",
       "    .dataframe tbody tr th:only-of-type {\n",
       "        vertical-align: middle;\n",
       "    }\n",
       "\n",
       "    .dataframe tbody tr th {\n",
       "        vertical-align: top;\n",
       "    }\n",
       "\n",
       "    .dataframe thead th {\n",
       "        text-align: right;\n",
       "    }\n",
       "</style>\n",
       "<table border=\"1\" class=\"dataframe\">\n",
       "  <thead>\n",
       "    <tr style=\"text-align: right;\">\n",
       "      <th></th>\n",
       "      <th>number</th>\n",
       "    </tr>\n",
       "  </thead>\n",
       "  <tbody>\n",
       "    <tr>\n",
       "      <th>times2_-1.1534706811380708</th>\n",
       "      <td>-1.153471</td>\n",
       "    </tr>\n",
       "    <tr>\n",
       "      <th>times2_-1.260748318879834</th>\n",
       "      <td>-1.260748</td>\n",
       "    </tr>\n",
       "    <tr>\n",
       "      <th>times2_-2.0828844876255115</th>\n",
       "      <td>-2.082884</td>\n",
       "    </tr>\n",
       "    <tr>\n",
       "      <th>times2_1.4339443056519938</th>\n",
       "      <td>1.433944</td>\n",
       "    </tr>\n",
       "    <tr>\n",
       "      <th>times2_-0.19536975431814083</th>\n",
       "      <td>-0.195370</td>\n",
       "    </tr>\n",
       "    <tr>\n",
       "      <th>times2_0.8538564724080824</th>\n",
       "      <td>0.853856</td>\n",
       "    </tr>\n",
       "    <tr>\n",
       "      <th>times2_-1.2972846991297584</th>\n",
       "      <td>-1.297285</td>\n",
       "    </tr>\n",
       "    <tr>\n",
       "      <th>times2_-0.3856101256838024</th>\n",
       "      <td>-0.385610</td>\n",
       "    </tr>\n",
       "    <tr>\n",
       "      <th>times2_-0.865281013859263</th>\n",
       "      <td>-0.865281</td>\n",
       "    </tr>\n",
       "    <tr>\n",
       "      <th>times2_0.1587961641614595</th>\n",
       "      <td>0.158796</td>\n",
       "    </tr>\n",
       "  </tbody>\n",
       "</table>\n",
       "</div>"
      ],
      "text/plain": [
       "                               number\n",
       "times2_-1.1534706811380708  -1.153471\n",
       "times2_-1.260748318879834   -1.260748\n",
       "times2_-2.0828844876255115  -2.082884\n",
       "times2_1.4339443056519938    1.433944\n",
       "times2_-0.19536975431814083 -0.195370\n",
       "times2_0.8538564724080824    0.853856\n",
       "times2_-1.2972846991297584  -1.297285\n",
       "times2_-0.3856101256838024  -0.385610\n",
       "times2_-0.865281013859263   -0.865281\n",
       "times2_0.1587961641614595    0.158796"
      ]
     },
     "execution_count": 8,
     "metadata": {},
     "output_type": "execute_result"
    }
   ],
   "source": [
    "# This df is now an attribute of the study called DF\n",
    "\n",
    "myStudy.DF"
   ]
  },
  {
   "cell_type": "code",
   "execution_count": 19,
   "metadata": {},
   "outputs": [],
   "source": [
    "# The idea is to submit a function that will take as argument this df and multiply by two the 'number' column\n",
    "# Such a function is written in a python script called times2.py in the working directory\n",
    "# We therefore store the DF as pickle in the input folder\n",
    "# WARNING: correct the link in the script ;) \n",
    "\n",
    "myStudy.DF.to_pickle(os.getcwd()+'/input/input_0.pkl')"
   ]
  },
  {
   "cell_type": "code",
   "execution_count": 20,
   "metadata": {},
   "outputs": [],
   "source": [
    "# In this case there's only one python script to run... \n",
    "# Even if it doesn't make so much sense, we need to respect the nomenclature of the interface\n",
    "# Our python script is therefore copied into the input folder under the name studyname_0.in\n",
    "\n",
    "!cp times2.py input/times2_0.in"
   ]
  },
  {
   "cell_type": "markdown",
   "metadata": {},
   "source": [
    "# Submission\n",
    "---"
   ]
  },
  {
   "cell_type": "code",
   "execution_count": 30,
   "metadata": {},
   "outputs": [],
   "source": [
    "# One needs a submit file to do so \n",
    "\n",
    "myStudy.submit2file(myStudy.submit2str())"
   ]
  },
  {
   "cell_type": "code",
   "execution_count": 31,
   "metadata": {},
   "outputs": [
    {
     "name": "stdout",
     "output_type": "stream",
     "text": [
      "executable = exe.sh\n",
      "arguments = $(input_file)\n",
      "output = output/times2.$(ClusterId).$(ProcId).out\n",
      "error = error/times2.$(ClusterId).$(ProcId).err\n",
      "log = log/times2.$(ClusterId).log\n",
      "universe = vanilla\n",
      "+JobFlavour = \"espresso\"\n",
      "queue input_file matching files /afs/cern.ch/user/a/apoyet/public/pyHTC/the_simplest_example/input/times2_*.in\n"
     ]
    }
   ],
   "source": [
    "# One can display the submission file\n",
    "\n",
    "myStudy.display_subfile()"
   ]
  },
  {
   "cell_type": "code",
   "execution_count": 32,
   "metadata": {},
   "outputs": [
    {
     "name": "stdout",
     "output_type": "stream",
     "text": [
      "Submitting job(s).\n",
      "1 job(s) submitted to cluster 3694560.\n",
      "\n"
     ]
    }
   ],
   "source": [
    "# And...... SUBMISSION\n",
    "\n",
    "myStudy.submit2HTCondor()"
   ]
  },
  {
   "cell_type": "code",
   "execution_count": 24,
   "metadata": {},
   "outputs": [
    {
     "name": "stdout",
     "output_type": "stream",
     "text": [
      "\n",
      "\n",
      "-- Schedd: bigbird16.cern.ch : <188.184.90.62:9618?... @ 08/08/19 15:26:18\n",
      "OWNER  BATCH_NAME     SUBMITTED   DONE   RUN    IDLE  TOTAL JOB_IDS\n",
      "apoyet CMD: exe.sh   8/8  15:26      _      _      1      1 3694536.0\n",
      "\n",
      "1 jobs; 0 completed, 0 removed, 1 idle, 0 running, 0 held, 0 suspended\n",
      "\n"
     ]
    }
   ],
   "source": [
    "# Monitor\n",
    "\n",
    "myStudy.condor_q()"
   ]
  },
  {
   "cell_type": "markdown",
   "metadata": {},
   "source": [
    "# Read the output\n",
    "---"
   ]
  },
  {
   "cell_type": "code",
   "execution_count": 33,
   "metadata": {},
   "outputs": [],
   "source": [
    "output = pd.read_pickle('output/output_0.pkl')"
   ]
  },
  {
   "cell_type": "code",
   "execution_count": 34,
   "metadata": {},
   "outputs": [
    {
     "data": {
      "text/html": [
       "<div>\n",
       "<style scoped>\n",
       "    .dataframe tbody tr th:only-of-type {\n",
       "        vertical-align: middle;\n",
       "    }\n",
       "\n",
       "    .dataframe tbody tr th {\n",
       "        vertical-align: top;\n",
       "    }\n",
       "\n",
       "    .dataframe thead th {\n",
       "        text-align: right;\n",
       "    }\n",
       "</style>\n",
       "<table border=\"1\" class=\"dataframe\">\n",
       "  <thead>\n",
       "    <tr style=\"text-align: right;\">\n",
       "      <th></th>\n",
       "      <th>number</th>\n",
       "      <th>result</th>\n",
       "    </tr>\n",
       "  </thead>\n",
       "  <tbody>\n",
       "    <tr>\n",
       "      <th>times2_-1.1534706811380708</th>\n",
       "      <td>-1.153471</td>\n",
       "      <td>-2.306941</td>\n",
       "    </tr>\n",
       "    <tr>\n",
       "      <th>times2_-1.260748318879834</th>\n",
       "      <td>-1.260748</td>\n",
       "      <td>-2.521497</td>\n",
       "    </tr>\n",
       "    <tr>\n",
       "      <th>times2_-2.0828844876255115</th>\n",
       "      <td>-2.082884</td>\n",
       "      <td>-4.165769</td>\n",
       "    </tr>\n",
       "    <tr>\n",
       "      <th>times2_1.4339443056519938</th>\n",
       "      <td>1.433944</td>\n",
       "      <td>2.867889</td>\n",
       "    </tr>\n",
       "    <tr>\n",
       "      <th>times2_-0.19536975431814083</th>\n",
       "      <td>-0.195370</td>\n",
       "      <td>-0.390740</td>\n",
       "    </tr>\n",
       "    <tr>\n",
       "      <th>times2_0.8538564724080824</th>\n",
       "      <td>0.853856</td>\n",
       "      <td>1.707713</td>\n",
       "    </tr>\n",
       "    <tr>\n",
       "      <th>times2_-1.2972846991297584</th>\n",
       "      <td>-1.297285</td>\n",
       "      <td>-2.594569</td>\n",
       "    </tr>\n",
       "    <tr>\n",
       "      <th>times2_-0.3856101256838024</th>\n",
       "      <td>-0.385610</td>\n",
       "      <td>-0.771220</td>\n",
       "    </tr>\n",
       "    <tr>\n",
       "      <th>times2_-0.865281013859263</th>\n",
       "      <td>-0.865281</td>\n",
       "      <td>-1.730562</td>\n",
       "    </tr>\n",
       "    <tr>\n",
       "      <th>times2_0.1587961641614595</th>\n",
       "      <td>0.158796</td>\n",
       "      <td>0.317592</td>\n",
       "    </tr>\n",
       "  </tbody>\n",
       "</table>\n",
       "</div>"
      ],
      "text/plain": [
       "                               number    result\n",
       "times2_-1.1534706811380708  -1.153471 -2.306941\n",
       "times2_-1.260748318879834   -1.260748 -2.521497\n",
       "times2_-2.0828844876255115  -2.082884 -4.165769\n",
       "times2_1.4339443056519938    1.433944  2.867889\n",
       "times2_-0.19536975431814083 -0.195370 -0.390740\n",
       "times2_0.8538564724080824    0.853856  1.707713\n",
       "times2_-1.2972846991297584  -1.297285 -2.594569\n",
       "times2_-0.3856101256838024  -0.385610 -0.771220\n",
       "times2_-0.865281013859263   -0.865281 -1.730562\n",
       "times2_0.1587961641614595    0.158796  0.317592"
      ]
     },
     "execution_count": 34,
     "metadata": {},
     "output_type": "execute_result"
    }
   ],
   "source": [
    "output"
   ]
  },
  {
   "cell_type": "code",
   "execution_count": null,
   "metadata": {},
   "outputs": [],
   "source": []
  }
 ],
 "metadata": {
  "kernelspec": {
   "display_name": "Python 3",
   "language": "python",
   "name": "python3"
  },
  "language_info": {
   "codemirror_mode": {
    "name": "ipython",
    "version": 3
   },
   "file_extension": ".py",
   "mimetype": "text/x-python",
   "name": "python",
   "nbconvert_exporter": "python",
   "pygments_lexer": "ipython3",
   "version": "3.6.5"
  }
 },
 "nbformat": 4,
 "nbformat_minor": 2
}
