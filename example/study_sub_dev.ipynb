{
 "cells": [
  {
   "cell_type": "code",
   "execution_count": 1,
   "metadata": {},
   "outputs": [],
   "source": [
    "import numpy as np\n",
    "import pandas as pd\n",
    "import itertools\n",
    "import subprocess"
   ]
  },
  {
   "cell_type": "code",
   "execution_count": 4,
   "metadata": {},
   "outputs": [],
   "source": [
    "class StudyObj():\n",
    "    '''\n",
    "    This class is used to define a study to be submitted to HTCondor. This particularly useful in the case of multiple jobs submissions. \n",
    "    A study will be defined by an executable, a submission file and a set of parameters, corresponding to a single job. Each job is instantiated from the Job class.\n",
    "    '''\n",
    "\n",
    "    def __init__(self, name, executable, submit_file, input_dir = \"\", arguments = \"$(ClusterId) $(ProcId)\", \n",
    "                 output_dir = \"\", error_dir = \"\", log_dir = \"\", job_flavour = \"\", universe = \"vanilla\",\n",
    "                 queue = \"\"):\n",
    "        self.name = name\n",
    "        self.executable = executable\n",
    "        self.submit_file = submit_file\n",
    "        self.input_dir = input_dir\n",
    "        self.arguments = arguments\n",
    "        self.output_dir = output_dir\n",
    "        self.error_dir = error_dir\n",
    "        self.log_dir = log_dir\n",
    "        self.job_flavour = job_flavour\n",
    "        self.universe = universe\n",
    "        self.queue = queue\n",
    "\n",
    "    \n",
    "    def define_study(self, **kwargs):\n",
    "        '''\n",
    "        This method will define the list of jobs of the study. It therefore takes as arguments the parameters to vary in the study amongs the different jobs. \n",
    "        'paramaters' is a multi-dimensionnal array containing the values of the different paramaters. \n",
    "\n",
    "        **** EXAMPLE ****\n",
    "        The study is called 'myScan'. And it will scan two parameters Temp and Press from 0 to 10 for Temp and 50 to 60 for Press.\n",
    "\n",
    "        define_study(np.array([[0, 2, 4, 6, 8, 10], [50, 55, 60]]))\n",
    "        >>> ['myScan_0_50', 'myScan_0_55', ...]\n",
    "        '''\n",
    "        myList = []\n",
    "        self.parameters_keys = kwargs.keys()\n",
    "        self.parameters_values = kwargs.values()\n",
    "        self.parameters = kwargs\n",
    "        for a in itertools.product(*self.parameters_values):\n",
    "            myList.append((self.name+'_{}'*len(a)).format(*a))\n",
    "        self.jobs_names = myList\n",
    "        \n",
    "    def get_studyDF(self):\n",
    "        '''\n",
    "        This method creates a pandas Dataframe containg the information of each job to be submitted\n",
    "        '''\n",
    "        # first to get the values of the parameters\n",
    "        myArray = np.zeros([np.prod([len(e) for e in myStudy.parameters_values]), len(myStudy.parameters_keys)])\n",
    "        flag = 0\n",
    "        for a in itertools.product(*self.parameters_values):\n",
    "            myArray[flag] = a\n",
    "            flag+=1\n",
    "            \n",
    "        # df definition\n",
    "        myColumns = [param for param in self.parameters_keys] + ['Input', 'Output', 'Error', 'Log']\n",
    "        myDF = pd.DataFrame(index = self.jobs_names, columns=myColumns)\n",
    "        \n",
    "        # store the parameters values\n",
    "        myDF[[param for param in self.parameters_keys]] = myArray\n",
    "        \n",
    "        # files paths\n",
    "        myDF['Input'] = self.input_dir + myDF.index + '.in'\n",
    "        myDF['Output'] = self.output_dir + self.name + '.$(ClusterId).$(ProcId).out'\n",
    "        myDF['Error'] = self.error_dir + self.name + '.$(ClusterId).$(ProcId).err'\n",
    "        myDF['Log'] = self.log_dir + self.name + '.$(ClusterId).$(ProcId).log'\n",
    "        \n",
    "        return myDF\n",
    "    \n",
    "    def submit2str(self):\n",
    "        '''\n",
    "        This methods creates the string that will be writen in a file afterwards. \n",
    "        '''\n",
    "        \n",
    "        myString = '''executable = {}\\n'''.format(self.executable)\n",
    "        if self.input_dir:\n",
    "            myString += '''input = $(input_file)\\n'''\n",
    "        if self.arguments:\n",
    "            myString += '''arguments = {}\\n'''.format(self.arguments)\n",
    "        if self.output_dir:\n",
    "            myString += '''output = {}.$(ClusterId).$(ProcId).out\\n'''.format(self.output_dir+self.name)\n",
    "        if self.error_dir:\n",
    "            myString += '''error = {}.$(ClusterId).$(ProcId).err\\n'''.format(self.error_dir+self.name)\n",
    "        if self.log_dir:\n",
    "            myString += '''log = {}.$(ClusterId).log\\n'''.format(self.log_dir+self.name)\n",
    "        if self.universe:\n",
    "            myString += '''universe = {}\\n'''.format(self.universe)\n",
    "        if self.job_flavour:\n",
    "            myString += '''+JobFlavour = \"{}\"\\n'''.format(self.job_flavour)\n",
    "            \n",
    "        myString += '''queue input_file matching files input/{}_*.in'''.format(self.name)\n",
    "        return myString\n",
    "    \n",
    "    \n",
    "    def submit2file(self, string):\n",
    "        submit_file = open(self.submit_file, \"w\")\n",
    "        submit_file.write(string)\n",
    "        submit_file.close()\n",
    "        \n",
    "    def display_subfile(self):\n",
    "        f = open(self.submit_file, 'r')\n",
    "        text = f.read()\n",
    "        print(text)\n",
    "        \n",
    "    def submit2HTCondor(self):\n",
    "        print(subprocess.check_output([\"condor_submit\", self.submit_file]))\n",
    "        \n",
    "    def condor_q(self, nobatch=False, jobID=None):\n",
    "        if nobatch: \n",
    "            print(subprocess.check_output([\"condor_q\",\"-nobatch\"]))\n",
    "        elif jobID: \n",
    "            print(subprocess.check_output([\"condor_q\", jobID]))\n",
    "        else: \n",
    "            print(subprocess.check_output([\"condor_q\"]))"
   ]
  },
  {
   "cell_type": "code",
   "execution_count": 5,
   "metadata": {},
   "outputs": [],
   "source": [
    "# Definition of the study \n",
    "\n",
    "myStudy = StudyObj('myStudy', '/afs/cern.ch/user/m/mad/bin/madx', 'mySubFile', input_dir='input/', output_dir='output/', error_dir='error/',\n",
    "                   log_dir = 'log/')"
   ]
  },
  {
   "cell_type": "code",
   "execution_count": 6,
   "metadata": {},
   "outputs": [],
   "source": [
    "# Definition of the parameters\n",
    "# NB : the number of parameters doesn't matter\n",
    "\n",
    "myStudy.define_study(temp = [10], press = [1,2], I = [5])"
   ]
  },
  {
   "cell_type": "code",
   "execution_count": 7,
   "metadata": {},
   "outputs": [
    {
     "name": "stdout",
     "output_type": "stream",
     "text": [
      "The parameters are : ['press', 'I', 'temp']\n",
      "Their values are : [[1, 2], [5], [10]]\n",
      "Printing in full : {'press': [1, 2], 'I': [5], 'temp': [10]}\n"
     ]
    }
   ],
   "source": [
    "# One can access the parameters and their values\n",
    "\n",
    "print('The parameters are : {}'.format(myStudy.parameters_keys))\n",
    "print('Their values are : {}'.format(myStudy.parameters_values))\n",
    "print('Printing in full : {}'.format(myStudy.parameters))"
   ]
  },
  {
   "cell_type": "code",
   "execution_count": 8,
   "metadata": {},
   "outputs": [],
   "source": [
    "# The idea then is to generate a pandas DataFrame containing the different points (or JOBS) of the study\n",
    "# The DF will be used as a reference afterwards to retrieve which job was made which which parameters\n",
    "# It should therefore contains the paths of the corresponding files\n",
    "\n",
    "df = myStudy.get_studyDF()"
   ]
  },
  {
   "cell_type": "code",
   "execution_count": 9,
   "metadata": {
    "scrolled": false
   },
   "outputs": [
    {
     "data": {
      "text/html": [
       "<div>\n",
       "<style scoped>\n",
       "    .dataframe tbody tr th:only-of-type {\n",
       "        vertical-align: middle;\n",
       "    }\n",
       "\n",
       "    .dataframe tbody tr th {\n",
       "        vertical-align: top;\n",
       "    }\n",
       "\n",
       "    .dataframe thead th {\n",
       "        text-align: right;\n",
       "    }\n",
       "</style>\n",
       "<table border=\"1\" class=\"dataframe\">\n",
       "  <thead>\n",
       "    <tr style=\"text-align: right;\">\n",
       "      <th></th>\n",
       "      <th>press</th>\n",
       "      <th>I</th>\n",
       "      <th>temp</th>\n",
       "      <th>Input</th>\n",
       "      <th>Output</th>\n",
       "      <th>Error</th>\n",
       "      <th>Log</th>\n",
       "    </tr>\n",
       "  </thead>\n",
       "  <tbody>\n",
       "    <tr>\n",
       "      <th>myStudy_1_5_10</th>\n",
       "      <td>1</td>\n",
       "      <td>5</td>\n",
       "      <td>10</td>\n",
       "      <td>input/myStudy_1_5_10.in</td>\n",
       "      <td>output/myStudy.$(ClusterId).$(ProcId).out</td>\n",
       "      <td>error/myStudy.$(ClusterId).$(ProcId).err</td>\n",
       "      <td>log/myStudy.$(ClusterId).$(ProcId).log</td>\n",
       "    </tr>\n",
       "    <tr>\n",
       "      <th>myStudy_2_5_10</th>\n",
       "      <td>2</td>\n",
       "      <td>5</td>\n",
       "      <td>10</td>\n",
       "      <td>input/myStudy_2_5_10.in</td>\n",
       "      <td>output/myStudy.$(ClusterId).$(ProcId).out</td>\n",
       "      <td>error/myStudy.$(ClusterId).$(ProcId).err</td>\n",
       "      <td>log/myStudy.$(ClusterId).$(ProcId).log</td>\n",
       "    </tr>\n",
       "  </tbody>\n",
       "</table>\n",
       "</div>"
      ],
      "text/plain": [
       "               press  I temp                    Input  \\\n",
       "myStudy_1_5_10     1  5   10  input/myStudy_1_5_10.in   \n",
       "myStudy_2_5_10     2  5   10  input/myStudy_2_5_10.in   \n",
       "\n",
       "                                                   Output  \\\n",
       "myStudy_1_5_10  output/myStudy.$(ClusterId).$(ProcId).out   \n",
       "myStudy_2_5_10  output/myStudy.$(ClusterId).$(ProcId).out   \n",
       "\n",
       "                                                   Error  \\\n",
       "myStudy_1_5_10  error/myStudy.$(ClusterId).$(ProcId).err   \n",
       "myStudy_2_5_10  error/myStudy.$(ClusterId).$(ProcId).err   \n",
       "\n",
       "                                                   Log  \n",
       "myStudy_1_5_10  log/myStudy.$(ClusterId).$(ProcId).log  \n",
       "myStudy_2_5_10  log/myStudy.$(ClusterId).$(ProcId).log  "
      ]
     },
     "execution_count": 9,
     "metadata": {},
     "output_type": "execute_result"
    }
   ],
   "source": [
    "# Let's print the DF\n",
    "\n",
    "df"
   ]
  },
  {
   "cell_type": "code",
   "execution_count": 10,
   "metadata": {},
   "outputs": [],
   "source": [
    "# Creating the submission file corresponding to the STUDY \n",
    "# NB : MULTIPLE JOBS SUBMISSION\n",
    "\n",
    "myStudy.submit2file(myStudy.submit2str())"
   ]
  },
  {
   "cell_type": "code",
   "execution_count": 11,
   "metadata": {},
   "outputs": [
    {
     "name": "stdout",
     "output_type": "stream",
     "text": [
      "executable = /afs/cern.ch/user/m/mad/bin/madx\n",
      "input = $(input_file)\n",
      "arguments = $(ClusterId) $(ProcId)\n",
      "output = output/myStudy.$(ClusterId).$(ProcId).out\n",
      "error = error/myStudy.$(ClusterId).$(ProcId).err\n",
      "log = log/myStudy.$(ClusterId).log\n",
      "universe = vanilla\n",
      "queue input_file matching files input/myStudy_*.in\n"
     ]
    }
   ],
   "source": [
    "# One can display the submission file\n",
    "\n",
    "myStudy.display_subfile()"
   ]
  },
  {
   "cell_type": "code",
   "execution_count": 15,
   "metadata": {},
   "outputs": [
    {
     "name": "stdout",
     "output_type": "stream",
     "text": [
      "Submitting job(s)..\n",
      "2 job(s) submitted to cluster 3574985.\n",
      "\n"
     ]
    }
   ],
   "source": [
    "# And...... SUBMISSION\n",
    "\n",
    "myStudy.submit2HTCondor()"
   ]
  },
  {
   "cell_type": "code",
   "execution_count": 17,
   "metadata": {},
   "outputs": [
    {
     "name": "stdout",
     "output_type": "stream",
     "text": [
      "\n",
      "\n",
      "-- Schedd: bigbird16.cern.ch : <188.184.90.62:9618?... @ 06/24/19 22:14:15\n",
      "OWNER BATCH_NAME      SUBMITTED   DONE   RUN    IDLE   HOLD  TOTAL JOB_IDS\n",
      "\n",
      "0 jobs; 0 completed, 0 removed, 0 idle, 0 running, 0 held, 0 suspended\n",
      "\n"
     ]
    }
   ],
   "source": [
    "myStudy.condor_q()"
   ]
  },
  {
   "cell_type": "code",
   "execution_count": null,
   "metadata": {},
   "outputs": [],
   "source": []
  }
 ],
 "metadata": {
  "kernelspec": {
   "display_name": "Python 2",
   "language": "python",
   "name": "python2"
  },
  "language_info": {
   "codemirror_mode": {
    "name": "ipython",
    "version": 2
   },
   "file_extension": ".py",
   "mimetype": "text/x-python",
   "name": "python",
   "nbconvert_exporter": "python",
   "pygments_lexer": "ipython2",
   "version": "2.7.14"
  }
 },
 "nbformat": 4,
 "nbformat_minor": 2
}
