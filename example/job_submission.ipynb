{
 "cells": [
  {
   "cell_type": "code",
   "execution_count": 1,
   "metadata": {},
   "outputs": [],
   "source": [
    "from pyHT.Job import *\n",
    "from pyHT.Study import *"
   ]
  },
  {
   "cell_type": "code",
   "execution_count": 2,
   "metadata": {},
   "outputs": [],
   "source": [
    "# We want to create an object 'job' by instiating the Job class\n",
    "# One has to give at least the submission file name and the exectuable.\n",
    "# It is then possible to add output/err/log paths or more HTCondor-related arguments\n",
    "\n",
    "# Paramters\n",
    "\n",
    "exe = '/afs/cern.ch/user/m/mad/bin/madx'\n",
    "subFileName = 'mySubFile.sub'\n",
    "\n",
    "myJob = Job(exe, subFileName, input_file='mask/myMask.madx', output='output/myOut', \n",
    "            log = 'log/myLog', error = 'error/myError', job_flavour = 'espresso')\n"
   ]
  },
  {
   "cell_type": "code",
   "execution_count": 3,
   "metadata": {},
   "outputs": [
    {
     "name": "stdout",
     "output_type": "stream",
     "text": [
      "Executable : /afs/cern.ch/user/m/mad/bin/madx\n",
      "Input : mask/myMask.madx\n",
      "Submit file name : mySubFile.sub\n"
     ]
    }
   ],
   "source": [
    "# One now has an object myJob that contains all the necessary ingredients for proper submission... let's check\n",
    "\n",
    "print('Executable : '+myJob.executable)\n",
    "print('Input : '+myJob.input_file)\n",
    "print('Submit file name : '+myJob.submitFile_name)"
   ]
  },
  {
   "cell_type": "code",
   "execution_count": 5,
   "metadata": {},
   "outputs": [
    {
     "name": "stdout",
     "output_type": "stream",
     "text": [
      "executable = /afs/cern.ch/user/m/mad/bin/madx\n",
      "input = mask/myMask.madx\n",
      "arguments = $(ClusterId) $(ProcId)\n",
      "output = output/myOut.$(ClusterId).$(ProcId).out\n",
      "error = error/myError.$(ClusterId).$(ProcId).err\n",
      "log = log/myLog.$(ClusterId).log\n",
      "universe = vanilla\n",
      "+JobFlavour = \"espresso\"\n",
      "queue \n"
     ]
    }
   ],
   "source": [
    "# One can now write the actual submission file\n",
    "# First as a string...\n",
    "\n",
    "myStrSubmit = myJob.submit2str()\n",
    "print(myStrSubmit)"
   ]
  },
  {
   "cell_type": "code",
   "execution_count": 6,
   "metadata": {},
   "outputs": [],
   "source": [
    "# And then to a file\n",
    "\n",
    "myJob.submit2file(myStrSubmit) # or directly myJob.submit2file(myJob.submit2str())"
   ]
  },
  {
   "cell_type": "code",
   "execution_count": 7,
   "metadata": {},
   "outputs": [
    {
     "name": "stdout",
     "output_type": "stream",
     "text": [
      "job_submission.ipynb  mask  mySubFile.sub\r\n"
     ]
    }
   ],
   "source": [
    "# There is indeed now a submit file is our directory\n",
    "!ls"
   ]
  },
  {
   "cell_type": "code",
   "execution_count": 9,
   "metadata": {},
   "outputs": [
    {
     "name": "stdout",
     "output_type": "stream",
     "text": [
      "Submitting job(s).\n",
      "1 job(s) submitted to cluster 3539909.\n",
      "\n"
     ]
    }
   ],
   "source": [
    "# It is time to submit it to condor... \n",
    "# WARNING : you must be on an AFS directory to process... From EOS, you'll get an error...\n",
    "\n",
    "myJob.submit2HTCondor()"
   ]
  },
  {
   "cell_type": "code",
   "execution_count": 11,
   "metadata": {},
   "outputs": [
    {
     "name": "stdout",
     "output_type": "stream",
     "text": [
      "\n",
      "\n",
      "-- Schedd: bigbird16.cern.ch : <188.184.90.62:9618?... @ 06/19/19 09:42:04\n",
      "OWNER BATCH_NAME      SUBMITTED   DONE   RUN    IDLE   HOLD  TOTAL JOB_IDS\n",
      "\n",
      "0 jobs; 0 completed, 0 removed, 0 idle, 0 running, 0 held, 0 suspended\n",
      "\n"
     ]
    }
   ],
   "source": [
    "# you can monitor your jobs\n",
    "\n",
    "myJob.condor_q()"
   ]
  },
  {
   "cell_type": "code",
   "execution_count": null,
   "metadata": {},
   "outputs": [],
   "source": []
  }
 ],
 "metadata": {
  "kernelspec": {
   "display_name": "Python 2",
   "language": "python",
   "name": "python2"
  },
  "language_info": {
   "codemirror_mode": {
    "name": "ipython",
    "version": 2
   },
   "file_extension": ".py",
   "mimetype": "text/x-python",
   "name": "python",
   "nbconvert_exporter": "python",
   "pygments_lexer": "ipython2",
   "version": "2.7.14"
  }
 },
 "nbformat": 4,
 "nbformat_minor": 2
}
