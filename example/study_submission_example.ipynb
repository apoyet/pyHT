{
 "cells": [
  {
   "cell_type": "code",
   "execution_count": 1,
   "metadata": {},
   "outputs": [],
   "source": [
    "from pyHTC.Study import *\n",
    "import pyHTC.toolkit as toolbox"
   ]
  },
  {
   "cell_type": "code",
   "execution_count": 36,
   "metadata": {},
   "outputs": [],
   "source": [
    "# Definition of the study \n",
    "\n",
    "myName = 'myStudy'\n",
    "myPath = '/afs/cern.ch/user/a/apoyet/public/pyHTC/example'\n",
    "myExe = '/afs/cern.ch/user/m/mad/bin/madx'\n",
    "mySubFileName = 'mySubFile'\n",
    "\n",
    "myStudy = StudyObj(myName, myPath, myExe, mySubFileName, input_dir='input/', output_dir='output/', error_dir='error/',\n",
    "                   log_dir = 'log/')"
   ]
  },
  {
   "cell_type": "code",
   "execution_count": null,
   "metadata": {},
   "outputs": [],
   "source": [
    "# One has now to create the input files... \n",
    "\n",
    "myTemplate = 'myTemplate.madx'\n",
    "myMaskedParam = toolbox.getMaskedParameterList(myTemplate, tag='%MASKED_')\n",
    "print(myMaskedParam)"
   ]
  },
  {
   "cell_type": "code",
   "execution_count": 37,
   "metadata": {},
   "outputs": [],
   "source": [
    "# Definition of the parameters\n",
    "# NB : the number of parameters doesn't matter\n",
    "\n",
    "myParam = {'Q1' : [.25, .30], 'Q2' : [.26, .28, .29]}\n",
    "\n",
    "myStudy.define_study(myParam)\n",
    "\n",
    "# see how you can input DF or dict"
   ]
  },
  {
   "cell_type": "code",
   "execution_count": 38,
   "metadata": {},
   "outputs": [
    {
     "name": "stdout",
     "output_type": "stream",
     "text": [
      "The parameters are : ['Q1', 'Q2']\n",
      "Their values are : [[0.25, 0.3], [0.26, 0.28, 0.29]]\n",
      "Printing in full : {'Q1': [0.25, 0.3], 'Q2': [0.26, 0.28, 0.29]}\n"
     ]
    }
   ],
   "source": [
    "# One can access the parameters and their values\n",
    "\n",
    "print('The parameters are : {}'.format(myStudy.parameters_keys))\n",
    "print('Their values are : {}'.format(myStudy.parameters_values))\n",
    "print('Printing in full : {}'.format(myStudy.parameters))"
   ]
  },
  {
   "cell_type": "code",
   "execution_count": 40,
   "metadata": {},
   "outputs": [],
   "source": [
    "# Creation of the input files\n",
    "\n",
    "for x in myStudy.parameters['Q1']:\n",
    "    for y in myStudy.parameters['Q2']:\n",
    "        myMachineParam = {}\n",
    "        myMachineParam.update({\n",
    "            '%MASKED_Q1' : x,\n",
    "            '%MASKED_Q2' : y, \n",
    "            '%MASKED_output_file' : '/afs/cern.ch/user/a/apoyet/public/pyHTC/example/mad_output/ptc_out_{0}_{1}.txt'.format(x,y)\n",
    "        })\n",
    "        myInputFile = 'input/{0}_{1}_{2}.in'.format(myStudy.name, x, y)\n",
    "        toolbox.unmask(myTemplate, myMaskedParam, myMachineParam, myInputFile)"
   ]
  },
  {
   "cell_type": "code",
   "execution_count": 41,
   "metadata": {},
   "outputs": [],
   "source": [
    "# Creating the submission file corresponding to the STUDY \n",
    "# NB : MULTIPLE JOBS SUBMISSION\n",
    "\n",
    "myStudy.submit2file(myStudy.submit2str())"
   ]
  },
  {
   "cell_type": "code",
   "execution_count": 42,
   "metadata": {},
   "outputs": [
    {
     "name": "stdout",
     "output_type": "stream",
     "text": [
      "executable = /afs/cern.ch/user/m/mad/bin/madx\n",
      "input = $(input_file)\n",
      "arguments = $(ClusterId) $(ProcId)\n",
      "output = output/myStudy.$(ClusterId).$(ProcId).out\n",
      "error = error/myStudy.$(ClusterId).$(ProcId).err\n",
      "log = log/myStudy.$(ClusterId).log\n",
      "universe = vanilla\n",
      "queue input_file matching files /afs/cern.ch/user/a/apoyet/public/pyHTC/example/input/myStudy_*.in\n"
     ]
    }
   ],
   "source": [
    "# One can display the submission file\n",
    "\n",
    "myStudy.display_subfile()"
   ]
  },
  {
   "cell_type": "code",
   "execution_count": 43,
   "metadata": {},
   "outputs": [
    {
     "name": "stdout",
     "output_type": "stream",
     "text": [
      "Submitting job(s)......\n",
      "6 job(s) submitted to cluster 3652946.\n",
      "\n"
     ]
    }
   ],
   "source": [
    "# And...... SUBMISSION\n",
    "\n",
    "myStudy.submit2HTCondor()"
   ]
  },
  {
   "cell_type": "code",
   "execution_count": 34,
   "metadata": {},
   "outputs": [
    {
     "name": "stdout",
     "output_type": "stream",
     "text": [
      "\n",
      "\n",
      "-- Schedd: bigbird16.cern.ch : <188.184.90.62:9618?... @ 07/22/19 14:45:40\n",
      "OWNER BATCH_NAME      SUBMITTED   DONE   RUN    IDLE   HOLD  TOTAL JOB_IDS\n",
      "\n",
      "0 jobs; 0 completed, 0 removed, 0 idle, 0 running, 0 held, 0 suspended\n",
      "\n"
     ]
    }
   ],
   "source": [
    "# Monitoring the jobs... :) \n",
    "\n",
    "myStudy.condor_q()"
   ]
  },
  {
   "cell_type": "code",
   "execution_count": 31,
   "metadata": {},
   "outputs": [],
   "source": [
    "# The idea then is to generate a pandas DataFrame containing the different points (or JOBS) of the study\n",
    "# The DF will be used as a reference afterwards to retrieve which job was made which which parameters\n",
    "# It should therefore contains the paths of the corresponding files\n",
    "\n",
    "df = myStudy.get_studyDF()"
   ]
  },
  {
   "cell_type": "code",
   "execution_count": 32,
   "metadata": {
    "scrolled": true
   },
   "outputs": [
    {
     "data": {
      "text/html": [
       "<div>\n",
       "<style scoped>\n",
       "    .dataframe tbody tr th:only-of-type {\n",
       "        vertical-align: middle;\n",
       "    }\n",
       "\n",
       "    .dataframe tbody tr th {\n",
       "        vertical-align: top;\n",
       "    }\n",
       "\n",
       "    .dataframe thead th {\n",
       "        text-align: right;\n",
       "    }\n",
       "</style>\n",
       "<table border=\"1\" class=\"dataframe\">\n",
       "  <thead>\n",
       "    <tr style=\"text-align: right;\">\n",
       "      <th></th>\n",
       "      <th>Q1</th>\n",
       "      <th>Q2</th>\n",
       "      <th>Input</th>\n",
       "      <th>Output</th>\n",
       "      <th>Error</th>\n",
       "      <th>Log</th>\n",
       "      <th>ProcID</th>\n",
       "    </tr>\n",
       "  </thead>\n",
       "  <tbody>\n",
       "    <tr>\n",
       "      <th>myStudy_0.25_0.26</th>\n",
       "      <td>0.25</td>\n",
       "      <td>0.26</td>\n",
       "      <td>input/myStudy_0.25_0.26.in</td>\n",
       "      <td>output/myStudy.3652857.0.out</td>\n",
       "      <td>error/myStudy.3652857.0.err</td>\n",
       "      <td>log/myStudy.3652857.log</td>\n",
       "      <td>0</td>\n",
       "    </tr>\n",
       "    <tr>\n",
       "      <th>myStudy_0.25_0.28</th>\n",
       "      <td>0.25</td>\n",
       "      <td>0.28</td>\n",
       "      <td>input/myStudy_0.25_0.28.in</td>\n",
       "      <td>output/myStudy.3652857.1.out</td>\n",
       "      <td>error/myStudy.3652857.1.err</td>\n",
       "      <td>log/myStudy.3652857.log</td>\n",
       "      <td>1</td>\n",
       "    </tr>\n",
       "    <tr>\n",
       "      <th>myStudy_0.25_0.29</th>\n",
       "      <td>0.25</td>\n",
       "      <td>0.29</td>\n",
       "      <td>input/myStudy_0.25_0.29.in</td>\n",
       "      <td>output/myStudy.3652857.2.out</td>\n",
       "      <td>error/myStudy.3652857.2.err</td>\n",
       "      <td>log/myStudy.3652857.log</td>\n",
       "      <td>2</td>\n",
       "    </tr>\n",
       "    <tr>\n",
       "      <th>myStudy_0.3_0.26</th>\n",
       "      <td>0.3</td>\n",
       "      <td>0.26</td>\n",
       "      <td>input/myStudy_0.3_0.26.in</td>\n",
       "      <td>output/myStudy.3652857.3.out</td>\n",
       "      <td>error/myStudy.3652857.3.err</td>\n",
       "      <td>log/myStudy.3652857.log</td>\n",
       "      <td>3</td>\n",
       "    </tr>\n",
       "    <tr>\n",
       "      <th>myStudy_0.3_0.28</th>\n",
       "      <td>0.3</td>\n",
       "      <td>0.28</td>\n",
       "      <td>input/myStudy_0.3_0.28.in</td>\n",
       "      <td>output/myStudy.3652857.4.out</td>\n",
       "      <td>error/myStudy.3652857.4.err</td>\n",
       "      <td>log/myStudy.3652857.log</td>\n",
       "      <td>4</td>\n",
       "    </tr>\n",
       "    <tr>\n",
       "      <th>myStudy_0.3_0.29</th>\n",
       "      <td>0.3</td>\n",
       "      <td>0.29</td>\n",
       "      <td>input/myStudy_0.3_0.29.in</td>\n",
       "      <td>output/myStudy.3652857.5.out</td>\n",
       "      <td>error/myStudy.3652857.5.err</td>\n",
       "      <td>log/myStudy.3652857.log</td>\n",
       "      <td>5</td>\n",
       "    </tr>\n",
       "  </tbody>\n",
       "</table>\n",
       "</div>"
      ],
      "text/plain": [
       "                     Q1    Q2                       Input  \\\n",
       "myStudy_0.25_0.26  0.25  0.26  input/myStudy_0.25_0.26.in   \n",
       "myStudy_0.25_0.28  0.25  0.28  input/myStudy_0.25_0.28.in   \n",
       "myStudy_0.25_0.29  0.25  0.29  input/myStudy_0.25_0.29.in   \n",
       "myStudy_0.3_0.26    0.3  0.26   input/myStudy_0.3_0.26.in   \n",
       "myStudy_0.3_0.28    0.3  0.28   input/myStudy_0.3_0.28.in   \n",
       "myStudy_0.3_0.29    0.3  0.29   input/myStudy_0.3_0.29.in   \n",
       "\n",
       "                                         Output                        Error  \\\n",
       "myStudy_0.25_0.26  output/myStudy.3652857.0.out  error/myStudy.3652857.0.err   \n",
       "myStudy_0.25_0.28  output/myStudy.3652857.1.out  error/myStudy.3652857.1.err   \n",
       "myStudy_0.25_0.29  output/myStudy.3652857.2.out  error/myStudy.3652857.2.err   \n",
       "myStudy_0.3_0.26   output/myStudy.3652857.3.out  error/myStudy.3652857.3.err   \n",
       "myStudy_0.3_0.28   output/myStudy.3652857.4.out  error/myStudy.3652857.4.err   \n",
       "myStudy_0.3_0.29   output/myStudy.3652857.5.out  error/myStudy.3652857.5.err   \n",
       "\n",
       "                                       Log ProcID  \n",
       "myStudy_0.25_0.26  log/myStudy.3652857.log      0  \n",
       "myStudy_0.25_0.28  log/myStudy.3652857.log      1  \n",
       "myStudy_0.25_0.29  log/myStudy.3652857.log      2  \n",
       "myStudy_0.3_0.26   log/myStudy.3652857.log      3  \n",
       "myStudy_0.3_0.28   log/myStudy.3652857.log      4  \n",
       "myStudy_0.3_0.29   log/myStudy.3652857.log      5  "
      ]
     },
     "execution_count": 32,
     "metadata": {},
     "output_type": "execute_result"
    }
   ],
   "source": [
    "# Let's print the DF\n",
    "\n",
    "df"
   ]
  },
  {
   "cell_type": "code",
   "execution_count": null,
   "metadata": {},
   "outputs": [],
   "source": []
  }
 ],
 "metadata": {
  "kernelspec": {
   "display_name": "Python 3",
   "language": "python",
   "name": "python3"
  },
  "language_info": {
   "codemirror_mode": {
    "name": "ipython",
    "version": 3
   },
   "file_extension": ".py",
   "mimetype": "text/x-python",
   "name": "python",
   "nbconvert_exporter": "python",
   "pygments_lexer": "ipython3",
   "version": "3.6.5"
  }
 },
 "nbformat": 4,
 "nbformat_minor": 2
}
