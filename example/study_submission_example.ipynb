{
 "cells": [
  {
   "cell_type": "code",
   "execution_count": 1,
   "metadata": {},
   "outputs": [],
   "source": [
    "from pyHT.Study import *"
   ]
  },
  {
   "cell_type": "code",
   "execution_count": 2,
   "metadata": {},
   "outputs": [],
   "source": [
    "# Definition of the study \n",
    "\n",
    "myName = 'myStudy'\n",
    "myExe = '/afs/cern.ch/user/m/mad/bin/madx'\n",
    "mySubFileName = 'mySubFile'\n",
    "\n",
    "myStudy = StudyObj(myName, myExe, mySubFileName, input_dir='input/', output_dir='output/', error_dir='error/',\n",
    "                   log_dir = 'log/')"
   ]
  },
  {
   "cell_type": "code",
   "execution_count": 3,
   "metadata": {},
   "outputs": [],
   "source": [
    "# Definition of the parameters\n",
    "# NB : the number of parameters doesn't matter\n",
    "\n",
    "myStudy.define_study(temp = [10], press = [1,2], I = [5])"
   ]
  },
  {
   "cell_type": "code",
   "execution_count": 4,
   "metadata": {},
   "outputs": [
    {
     "name": "stdout",
     "output_type": "stream",
     "text": [
      "The parameters are : ['press', 'I', 'temp']\n",
      "Their values are : [[1, 2], [5], [10]]\n",
      "Printing in full : {'press': [1, 2], 'I': [5], 'temp': [10]}\n"
     ]
    }
   ],
   "source": [
    "# One can access the parameters and their values\n",
    "\n",
    "print('The parameters are : {}'.format(myStudy.parameters_keys))\n",
    "print('Their values are : {}'.format(myStudy.parameters_values))\n",
    "print('Printing in full : {}'.format(myStudy.parameters))"
   ]
  },
  {
   "cell_type": "code",
   "execution_count": 5,
   "metadata": {},
   "outputs": [],
   "source": [
    "# The idea then is to generate a pandas DataFrame containing the different points (or JOBS) of the study\n",
    "# The DF will be used as a reference afterwards to retrieve which job was made which which parameters\n",
    "# It should therefore contains the paths of the corresponding files\n",
    "\n",
    "df = myStudy.get_studyDF()"
   ]
  },
  {
   "cell_type": "code",
   "execution_count": 6,
   "metadata": {
    "scrolled": false
   },
   "outputs": [
    {
     "data": {
      "text/html": [
       "<div>\n",
       "<style scoped>\n",
       "    .dataframe tbody tr th:only-of-type {\n",
       "        vertical-align: middle;\n",
       "    }\n",
       "\n",
       "    .dataframe tbody tr th {\n",
       "        vertical-align: top;\n",
       "    }\n",
       "\n",
       "    .dataframe thead th {\n",
       "        text-align: right;\n",
       "    }\n",
       "</style>\n",
       "<table border=\"1\" class=\"dataframe\">\n",
       "  <thead>\n",
       "    <tr style=\"text-align: right;\">\n",
       "      <th></th>\n",
       "      <th>press</th>\n",
       "      <th>I</th>\n",
       "      <th>temp</th>\n",
       "      <th>Input</th>\n",
       "      <th>Output</th>\n",
       "      <th>Error</th>\n",
       "      <th>Log</th>\n",
       "    </tr>\n",
       "  </thead>\n",
       "  <tbody>\n",
       "    <tr>\n",
       "      <th>myStudy_1_5_10</th>\n",
       "      <td>1</td>\n",
       "      <td>5</td>\n",
       "      <td>10</td>\n",
       "      <td>input/myStudy_1_5_10.in</td>\n",
       "      <td>output/myStudy.$(ClusterId).$(ProcId).out</td>\n",
       "      <td>error/myStudy.$(ClusterId).$(ProcId).err</td>\n",
       "      <td>log/myStudy.$(ClusterId).$(ProcId).log</td>\n",
       "    </tr>\n",
       "    <tr>\n",
       "      <th>myStudy_2_5_10</th>\n",
       "      <td>2</td>\n",
       "      <td>5</td>\n",
       "      <td>10</td>\n",
       "      <td>input/myStudy_2_5_10.in</td>\n",
       "      <td>output/myStudy.$(ClusterId).$(ProcId).out</td>\n",
       "      <td>error/myStudy.$(ClusterId).$(ProcId).err</td>\n",
       "      <td>log/myStudy.$(ClusterId).$(ProcId).log</td>\n",
       "    </tr>\n",
       "  </tbody>\n",
       "</table>\n",
       "</div>"
      ],
      "text/plain": [
       "               press  I temp                    Input  \\\n",
       "myStudy_1_5_10     1  5   10  input/myStudy_1_5_10.in   \n",
       "myStudy_2_5_10     2  5   10  input/myStudy_2_5_10.in   \n",
       "\n",
       "                                                   Output  \\\n",
       "myStudy_1_5_10  output/myStudy.$(ClusterId).$(ProcId).out   \n",
       "myStudy_2_5_10  output/myStudy.$(ClusterId).$(ProcId).out   \n",
       "\n",
       "                                                   Error  \\\n",
       "myStudy_1_5_10  error/myStudy.$(ClusterId).$(ProcId).err   \n",
       "myStudy_2_5_10  error/myStudy.$(ClusterId).$(ProcId).err   \n",
       "\n",
       "                                                   Log  \n",
       "myStudy_1_5_10  log/myStudy.$(ClusterId).$(ProcId).log  \n",
       "myStudy_2_5_10  log/myStudy.$(ClusterId).$(ProcId).log  "
      ]
     },
     "execution_count": 6,
     "metadata": {},
     "output_type": "execute_result"
    }
   ],
   "source": [
    "# Let's print the DF\n",
    "\n",
    "df"
   ]
  },
  {
   "cell_type": "code",
   "execution_count": 7,
   "metadata": {},
   "outputs": [],
   "source": [
    "# Creating the submission file corresponding to the STUDY \n",
    "# NB : MULTIPLE JOBS SUBMISSION\n",
    "\n",
    "myStudy.submit2file(myStudy.submit2str())"
   ]
  },
  {
   "cell_type": "code",
   "execution_count": 8,
   "metadata": {},
   "outputs": [
    {
     "name": "stdout",
     "output_type": "stream",
     "text": [
      "executable = /afs/cern.ch/user/m/mad/bin/madx\n",
      "input = $(input_file)\n",
      "arguments = $(ClusterId) $(ProcId)\n",
      "output = output/myStudy.$(ClusterId).$(ProcId).out\n",
      "error = error/myStudy.$(ClusterId).$(ProcId).err\n",
      "log = log/myStudy.$(ClusterId).log\n",
      "universe = vanilla\n",
      "queue input_file matching files input/myStudy_*.in\n"
     ]
    }
   ],
   "source": [
    "# One can display the submission file\n",
    "\n",
    "myStudy.display_subfile()"
   ]
  },
  {
   "cell_type": "code",
   "execution_count": 9,
   "metadata": {},
   "outputs": [
    {
     "name": "stdout",
     "output_type": "stream",
     "text": [
      "Submitting job(s)..\n",
      "2 job(s) submitted to cluster 3575002.\n",
      "\n"
     ]
    }
   ],
   "source": [
    "# And...... SUBMISSION\n",
    "\n",
    "myStudy.submit2HTCondor()"
   ]
  },
  {
   "cell_type": "code",
   "execution_count": 12,
   "metadata": {},
   "outputs": [
    {
     "name": "stdout",
     "output_type": "stream",
     "text": [
      "\n",
      "\n",
      "-- Schedd: bigbird16.cern.ch : <188.184.90.62:9618?... @ 06/24/19 22:22:43\n",
      "OWNER BATCH_NAME      SUBMITTED   DONE   RUN    IDLE   HOLD  TOTAL JOB_IDS\n",
      "\n",
      "0 jobs; 0 completed, 0 removed, 0 idle, 0 running, 0 held, 0 suspended\n",
      "\n"
     ]
    }
   ],
   "source": [
    "# Monitoring the jobs... :) \n",
    "\n",
    "myStudy.condor_q()"
   ]
  },
  {
   "cell_type": "code",
   "execution_count": null,
   "metadata": {},
   "outputs": [],
   "source": []
  }
 ],
 "metadata": {
  "kernelspec": {
   "display_name": "Python 2",
   "language": "python",
   "name": "python2"
  },
  "language_info": {
   "codemirror_mode": {
    "name": "ipython",
    "version": 2
   },
   "file_extension": ".py",
   "mimetype": "text/x-python",
   "name": "python",
   "nbconvert_exporter": "python",
   "pygments_lexer": "ipython2",
   "version": "2.7.14"
  }
 },
 "nbformat": 4,
 "nbformat_minor": 2
}
